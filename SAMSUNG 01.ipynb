{
 "cells": [
  {
   "cell_type": "code",
   "execution_count": 4,
   "id": "4a2ff9d3",
   "metadata": {},
   "outputs": [
    {
     "name": "stdout",
     "output_type": "stream",
     "text": [
      "HELLO HI\n"
     ]
    }
   ],
   "source": [
    "print(\"HELLO HI\")"
   ]
  },
  {
   "cell_type": "code",
   "execution_count": 6,
   "id": "31fd7dba",
   "metadata": {},
   "outputs": [
    {
     "name": "stdout",
     "output_type": "stream",
     "text": [
      "25\n",
      "40\n",
      "b is greater than a\n"
     ]
    }
   ],
   "source": [
    "a = input()\n",
    "b = input()\n",
    "if b > a:\n",
    "  print(\"b is greater than a\")\n",
    "elif b < a:\n",
    "  print(\"b is lesser than a\")\n",
    "else:\n",
    "  print(\"b and a are equal\")"
   ]
  },
  {
   "cell_type": "code",
   "execution_count": 7,
   "id": "38ff2732",
   "metadata": {},
   "outputs": [
    {
     "name": "stdout",
     "output_type": "stream",
     "text": [
      "40\n",
      "25\n",
      "b is lesser than a\n"
     ]
    }
   ],
   "source": [
    "a = input()\n",
    "b = input()\n",
    "if b > a:\n",
    "  print(\"b is greater than a\")\n",
    "elif b < a:\n",
    "  print(\"b is lesser than a\")\n",
    "else:\n",
    "  print(\"b and a are equal\")"
   ]
  },
  {
   "cell_type": "code",
   "execution_count": 5,
   "id": "53871e84",
   "metadata": {},
   "outputs": [
    {
     "name": "stdout",
     "output_type": "stream",
     "text": [
      "25\n",
      "25\n",
      "b and a are equal\n"
     ]
    }
   ],
   "source": [
    "a = input()\n",
    "b = input()\n",
    "if b > a:\n",
    "  print(\"b is greater than a\")\n",
    "elif b < a:\n",
    "  print(\"b is lesser than a\")\n",
    "else:\n",
    "  print(\"b and a are equal\")"
   ]
  },
  {
   "cell_type": "code",
   "execution_count": null,
   "id": "4c19940d",
   "metadata": {},
   "outputs": [],
   "source": []
  }
 ],
 "metadata": {
  "kernelspec": {
   "display_name": "Python 3 (ipykernel)",
   "language": "python",
   "name": "python3"
  },
  "language_info": {
   "codemirror_mode": {
    "name": "ipython",
    "version": 3
   },
   "file_extension": ".py",
   "mimetype": "text/x-python",
   "name": "python",
   "nbconvert_exporter": "python",
   "pygments_lexer": "ipython3",
   "version": "3.9.13"
  }
 },
 "nbformat": 4,
 "nbformat_minor": 5
}
